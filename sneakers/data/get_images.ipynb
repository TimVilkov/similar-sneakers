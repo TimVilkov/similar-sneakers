{
 "cells": [
  {
   "cell_type": "code",
   "execution_count": 95,
   "metadata": {},
   "outputs": [],
   "source": [
    "import requests\n",
    "import pandas as pd\n",
    "import numpy as np\n",
    "\n",
    "from tqdm import tqdm"
   ]
  },
  {
   "cell_type": "code",
   "execution_count": 96,
   "metadata": {},
   "outputs": [],
   "source": [
    "df = pd.read_csv(\"url_dataset.csv\")"
   ]
  },
  {
   "cell_type": "code",
   "execution_count": 97,
   "metadata": {},
   "outputs": [
    {
     "data": {
      "text/html": [
       "<div>\n",
       "<style scoped>\n",
       "    .dataframe tbody tr th:only-of-type {\n",
       "        vertical-align: middle;\n",
       "    }\n",
       "\n",
       "    .dataframe tbody tr th {\n",
       "        vertical-align: top;\n",
       "    }\n",
       "\n",
       "    .dataframe thead th {\n",
       "        text-align: right;\n",
       "    }\n",
       "</style>\n",
       "<table border=\"1\" class=\"dataframe\">\n",
       "  <thead>\n",
       "    <tr style=\"text-align: right;\">\n",
       "      <th></th>\n",
       "      <th>brand</th>\n",
       "      <th>model</th>\n",
       "      <th>price</th>\n",
       "      <th>gender</th>\n",
       "      <th>url</th>\n",
       "    </tr>\n",
       "  </thead>\n",
       "  <tbody>\n",
       "    <tr>\n",
       "      <th>0</th>\n",
       "      <td>GmbH</td>\n",
       "      <td>Black Adem Boots</td>\n",
       "      <td>630</td>\n",
       "      <td>men</td>\n",
       "      <td>https://res.cloudinary.com/ssenseweb/image/upl...</td>\n",
       "    </tr>\n",
       "    <tr>\n",
       "      <th>1</th>\n",
       "      <td>GmbH</td>\n",
       "      <td>Black Adem Boots</td>\n",
       "      <td>630</td>\n",
       "      <td>men</td>\n",
       "      <td>https://res.cloudinary.com/ssenseweb/image/upl...</td>\n",
       "    </tr>\n",
       "    <tr>\n",
       "      <th>2</th>\n",
       "      <td>GmbH</td>\n",
       "      <td>Black Adem Boots</td>\n",
       "      <td>630</td>\n",
       "      <td>men</td>\n",
       "      <td>https://res.cloudinary.com/ssenseweb/image/upl...</td>\n",
       "    </tr>\n",
       "    <tr>\n",
       "      <th>3</th>\n",
       "      <td>GmbH</td>\n",
       "      <td>Black Adem Boots</td>\n",
       "      <td>630</td>\n",
       "      <td>men</td>\n",
       "      <td>https://res.cloudinary.com/ssenseweb/image/upl...</td>\n",
       "    </tr>\n",
       "    <tr>\n",
       "      <th>4</th>\n",
       "      <td>C2H4</td>\n",
       "      <td>Black Boson Boots</td>\n",
       "      <td>820</td>\n",
       "      <td>men</td>\n",
       "      <td>https://res.cloudinary.com/ssenseweb/image/upl...</td>\n",
       "    </tr>\n",
       "    <tr>\n",
       "      <th>...</th>\n",
       "      <td>...</td>\n",
       "      <td>...</td>\n",
       "      <td>...</td>\n",
       "      <td>...</td>\n",
       "      <td>...</td>\n",
       "    </tr>\n",
       "    <tr>\n",
       "      <th>42235</th>\n",
       "      <td>Lauren Manoogian</td>\n",
       "      <td>Brown Welt Mules</td>\n",
       "      <td>655</td>\n",
       "      <td>women</td>\n",
       "      <td>https://res.cloudinary.com/ssenseweb/image/upl...</td>\n",
       "    </tr>\n",
       "    <tr>\n",
       "      <th>42236</th>\n",
       "      <td>Paris Texas</td>\n",
       "      <td>Silver Lidia 70 Mules</td>\n",
       "      <td>715</td>\n",
       "      <td>women</td>\n",
       "      <td>https://res.cloudinary.com/ssenseweb/image/upl...</td>\n",
       "    </tr>\n",
       "    <tr>\n",
       "      <th>42237</th>\n",
       "      <td>Paris Texas</td>\n",
       "      <td>Silver Lidia 70 Mules</td>\n",
       "      <td>715</td>\n",
       "      <td>women</td>\n",
       "      <td>https://res.cloudinary.com/ssenseweb/image/upl...</td>\n",
       "    </tr>\n",
       "    <tr>\n",
       "      <th>42238</th>\n",
       "      <td>Paris Texas</td>\n",
       "      <td>Silver Lidia 70 Mules</td>\n",
       "      <td>715</td>\n",
       "      <td>women</td>\n",
       "      <td>https://res.cloudinary.com/ssenseweb/image/upl...</td>\n",
       "    </tr>\n",
       "    <tr>\n",
       "      <th>42239</th>\n",
       "      <td>Paris Texas</td>\n",
       "      <td>Silver Lidia 70 Mules</td>\n",
       "      <td>715</td>\n",
       "      <td>women</td>\n",
       "      <td>https://res.cloudinary.com/ssenseweb/image/upl...</td>\n",
       "    </tr>\n",
       "  </tbody>\n",
       "</table>\n",
       "<p>42240 rows × 5 columns</p>\n",
       "</div>"
      ],
      "text/plain": [
       "                  brand                  model  price gender  \\\n",
       "0                  GmbH       Black Adem Boots    630    men   \n",
       "1                  GmbH       Black Adem Boots    630    men   \n",
       "2                  GmbH       Black Adem Boots    630    men   \n",
       "3                  GmbH       Black Adem Boots    630    men   \n",
       "4                  C2H4      Black Boson Boots    820    men   \n",
       "...                 ...                    ...    ...    ...   \n",
       "42235  Lauren Manoogian       Brown Welt Mules    655  women   \n",
       "42236       Paris Texas  Silver Lidia 70 Mules    715  women   \n",
       "42237       Paris Texas  Silver Lidia 70 Mules    715  women   \n",
       "42238       Paris Texas  Silver Lidia 70 Mules    715  women   \n",
       "42239       Paris Texas  Silver Lidia 70 Mules    715  women   \n",
       "\n",
       "                                                     url  \n",
       "0      https://res.cloudinary.com/ssenseweb/image/upl...  \n",
       "1      https://res.cloudinary.com/ssenseweb/image/upl...  \n",
       "2      https://res.cloudinary.com/ssenseweb/image/upl...  \n",
       "3      https://res.cloudinary.com/ssenseweb/image/upl...  \n",
       "4      https://res.cloudinary.com/ssenseweb/image/upl...  \n",
       "...                                                  ...  \n",
       "42235  https://res.cloudinary.com/ssenseweb/image/upl...  \n",
       "42236  https://res.cloudinary.com/ssenseweb/image/upl...  \n",
       "42237  https://res.cloudinary.com/ssenseweb/image/upl...  \n",
       "42238  https://res.cloudinary.com/ssenseweb/image/upl...  \n",
       "42239  https://res.cloudinary.com/ssenseweb/image/upl...  \n",
       "\n",
       "[42240 rows x 5 columns]"
      ]
     },
     "execution_count": 97,
     "metadata": {},
     "output_type": "execute_result"
    }
   ],
   "source": [
    "df"
   ]
  },
  {
   "cell_type": "code",
   "execution_count": 98,
   "metadata": {},
   "outputs": [],
   "source": [
    "URLS = df.url.values"
   ]
  },
  {
   "cell_type": "code",
   "execution_count": 99,
   "metadata": {},
   "outputs": [],
   "source": [
    "df['image_position'] = df.url.str[-5:-4]"
   ]
  },
  {
   "cell_type": "code",
   "execution_count": 100,
   "metadata": {},
   "outputs": [],
   "source": [
    "df = df[df['image_position'] == '1']"
   ]
  },
  {
   "cell_type": "code",
   "execution_count": 101,
   "metadata": {},
   "outputs": [
    {
     "data": {
      "text/html": [
       "<div>\n",
       "<style scoped>\n",
       "    .dataframe tbody tr th:only-of-type {\n",
       "        vertical-align: middle;\n",
       "    }\n",
       "\n",
       "    .dataframe tbody tr th {\n",
       "        vertical-align: top;\n",
       "    }\n",
       "\n",
       "    .dataframe thead th {\n",
       "        text-align: right;\n",
       "    }\n",
       "</style>\n",
       "<table border=\"1\" class=\"dataframe\">\n",
       "  <thead>\n",
       "    <tr style=\"text-align: right;\">\n",
       "      <th></th>\n",
       "      <th>brand</th>\n",
       "      <th>model</th>\n",
       "      <th>price</th>\n",
       "      <th>gender</th>\n",
       "      <th>url</th>\n",
       "      <th>image_position</th>\n",
       "    </tr>\n",
       "  </thead>\n",
       "  <tbody>\n",
       "    <tr>\n",
       "      <th>0</th>\n",
       "      <td>GmbH</td>\n",
       "      <td>Black Adem Boots</td>\n",
       "      <td>630</td>\n",
       "      <td>men</td>\n",
       "      <td>https://res.cloudinary.com/ssenseweb/image/upl...</td>\n",
       "      <td>1</td>\n",
       "    </tr>\n",
       "    <tr>\n",
       "      <th>4</th>\n",
       "      <td>C2H4</td>\n",
       "      <td>Black Boson Boots</td>\n",
       "      <td>820</td>\n",
       "      <td>men</td>\n",
       "      <td>https://res.cloudinary.com/ssenseweb/image/upl...</td>\n",
       "      <td>1</td>\n",
       "    </tr>\n",
       "    <tr>\n",
       "      <th>8</th>\n",
       "      <td>Burberry</td>\n",
       "      <td>Black &amp; Purple Check Pillow Boots</td>\n",
       "      <td>1140</td>\n",
       "      <td>men</td>\n",
       "      <td>https://res.cloudinary.com/ssenseweb/image/upl...</td>\n",
       "      <td>1</td>\n",
       "    </tr>\n",
       "    <tr>\n",
       "      <th>12</th>\n",
       "      <td>On</td>\n",
       "      <td>Black &amp; Beige Cloudvista Sneakers</td>\n",
       "      <td>235</td>\n",
       "      <td>men</td>\n",
       "      <td>https://res.cloudinary.com/ssenseweb/image/upl...</td>\n",
       "      <td>1</td>\n",
       "    </tr>\n",
       "    <tr>\n",
       "      <th>16</th>\n",
       "      <td>Salomon</td>\n",
       "      <td>White ACS Pro Sneakers</td>\n",
       "      <td>360</td>\n",
       "      <td>men</td>\n",
       "      <td>https://res.cloudinary.com/ssenseweb/image/upl...</td>\n",
       "      <td>1</td>\n",
       "    </tr>\n",
       "    <tr>\n",
       "      <th>...</th>\n",
       "      <td>...</td>\n",
       "      <td>...</td>\n",
       "      <td>...</td>\n",
       "      <td>...</td>\n",
       "      <td>...</td>\n",
       "      <td>...</td>\n",
       "    </tr>\n",
       "    <tr>\n",
       "      <th>42220</th>\n",
       "      <td>Marsèll</td>\n",
       "      <td>Black Spanciata Sandals</td>\n",
       "      <td>820</td>\n",
       "      <td>women</td>\n",
       "      <td>https://res.cloudinary.com/ssenseweb/image/upl...</td>\n",
       "      <td>1</td>\n",
       "    </tr>\n",
       "    <tr>\n",
       "      <th>42224</th>\n",
       "      <td>Marsèll</td>\n",
       "      <td>Brown Spanciata Sandals</td>\n",
       "      <td>800</td>\n",
       "      <td>women</td>\n",
       "      <td>https://res.cloudinary.com/ssenseweb/image/upl...</td>\n",
       "      <td>1</td>\n",
       "    </tr>\n",
       "    <tr>\n",
       "      <th>42228</th>\n",
       "      <td>Marsèll</td>\n",
       "      <td>Black Tillo Heels</td>\n",
       "      <td>845</td>\n",
       "      <td>women</td>\n",
       "      <td>https://res.cloudinary.com/ssenseweb/image/upl...</td>\n",
       "      <td>1</td>\n",
       "    </tr>\n",
       "    <tr>\n",
       "      <th>42232</th>\n",
       "      <td>Lauren Manoogian</td>\n",
       "      <td>Brown Welt Mules</td>\n",
       "      <td>655</td>\n",
       "      <td>women</td>\n",
       "      <td>https://res.cloudinary.com/ssenseweb/image/upl...</td>\n",
       "      <td>1</td>\n",
       "    </tr>\n",
       "    <tr>\n",
       "      <th>42236</th>\n",
       "      <td>Paris Texas</td>\n",
       "      <td>Silver Lidia 70 Mules</td>\n",
       "      <td>715</td>\n",
       "      <td>women</td>\n",
       "      <td>https://res.cloudinary.com/ssenseweb/image/upl...</td>\n",
       "      <td>1</td>\n",
       "    </tr>\n",
       "  </tbody>\n",
       "</table>\n",
       "<p>10560 rows × 6 columns</p>\n",
       "</div>"
      ],
      "text/plain": [
       "                  brand                              model  price gender  \\\n",
       "0                  GmbH                   Black Adem Boots    630    men   \n",
       "4                  C2H4                  Black Boson Boots    820    men   \n",
       "8              Burberry  Black & Purple Check Pillow Boots   1140    men   \n",
       "12                   On  Black & Beige Cloudvista Sneakers    235    men   \n",
       "16              Salomon             White ACS Pro Sneakers    360    men   \n",
       "...                 ...                                ...    ...    ...   \n",
       "42220           Marsèll            Black Spanciata Sandals    820  women   \n",
       "42224           Marsèll            Brown Spanciata Sandals    800  women   \n",
       "42228           Marsèll                  Black Tillo Heels    845  women   \n",
       "42232  Lauren Manoogian                   Brown Welt Mules    655  women   \n",
       "42236       Paris Texas              Silver Lidia 70 Mules    715  women   \n",
       "\n",
       "                                                     url image_position  \n",
       "0      https://res.cloudinary.com/ssenseweb/image/upl...              1  \n",
       "4      https://res.cloudinary.com/ssenseweb/image/upl...              1  \n",
       "8      https://res.cloudinary.com/ssenseweb/image/upl...              1  \n",
       "12     https://res.cloudinary.com/ssenseweb/image/upl...              1  \n",
       "16     https://res.cloudinary.com/ssenseweb/image/upl...              1  \n",
       "...                                                  ...            ...  \n",
       "42220  https://res.cloudinary.com/ssenseweb/image/upl...              1  \n",
       "42224  https://res.cloudinary.com/ssenseweb/image/upl...              1  \n",
       "42228  https://res.cloudinary.com/ssenseweb/image/upl...              1  \n",
       "42232  https://res.cloudinary.com/ssenseweb/image/upl...              1  \n",
       "42236  https://res.cloudinary.com/ssenseweb/image/upl...              1  \n",
       "\n",
       "[10560 rows x 6 columns]"
      ]
     },
     "execution_count": 101,
     "metadata": {},
     "output_type": "execute_result"
    }
   ],
   "source": [
    "df"
   ]
  },
  {
   "cell_type": "code",
   "execution_count": 102,
   "metadata": {},
   "outputs": [
    {
     "name": "stderr",
     "output_type": "stream",
     "text": [
      "/var/folders/rn/n96315xj07s91rcy_t4k4h2r0000gn/T/ipykernel_83214/1371083900.py:1: SettingWithCopyWarning: \n",
      "A value is trying to be set on a copy of a slice from a DataFrame.\n",
      "Try using .loc[row_indexer,col_indexer] = value instead\n",
      "\n",
      "See the caveats in the documentation: https://pandas.pydata.org/pandas-docs/stable/user_guide/indexing.html#returning-a-view-versus-a-copy\n",
      "  df.brand = df.brand.str.lower()\n",
      "/var/folders/rn/n96315xj07s91rcy_t4k4h2r0000gn/T/ipykernel_83214/1371083900.py:2: SettingWithCopyWarning: \n",
      "A value is trying to be set on a copy of a slice from a DataFrame.\n",
      "Try using .loc[row_indexer,col_indexer] = value instead\n",
      "\n",
      "See the caveats in the documentation: https://pandas.pydata.org/pandas-docs/stable/user_guide/indexing.html#returning-a-view-versus-a-copy\n",
      "  df.model = df.model.str.lower()\n"
     ]
    }
   ],
   "source": [
    "df.brand = df.brand.str.lower()\n",
    "df.model = df.model.str.lower()"
   ]
  },
  {
   "cell_type": "code",
   "execution_count": 103,
   "metadata": {},
   "outputs": [],
   "source": [
    "from pandas.util import hash_pandas_object"
   ]
  },
  {
   "cell_type": "code",
   "execution_count": 106,
   "metadata": {},
   "outputs": [
    {
     "name": "stderr",
     "output_type": "stream",
     "text": [
      "/var/folders/rn/n96315xj07s91rcy_t4k4h2r0000gn/T/ipykernel_83214/2659325542.py:1: SettingWithCopyWarning: \n",
      "A value is trying to be set on a copy of a slice from a DataFrame.\n",
      "Try using .loc[row_indexer,col_indexer] = value instead\n",
      "\n",
      "See the caveats in the documentation: https://pandas.pydata.org/pandas-docs/stable/user_guide/indexing.html#returning-a-view-versus-a-copy\n",
      "  df['image_id'] = hash_pandas_object(df['brand'] + df['model'] + df['gender'] + df['price'].astype(str))\n"
     ]
    }
   ],
   "source": [
    "df['image_id'] = hash_pandas_object(df['brand'] + df['model'] + df['gender'] + df['price'].astype(str))"
   ]
  },
  {
   "cell_type": "code",
   "execution_count": 107,
   "metadata": {},
   "outputs": [
    {
     "data": {
      "text/plain": [
       "10560"
      ]
     },
     "execution_count": 107,
     "metadata": {},
     "output_type": "execute_result"
    }
   ],
   "source": [
    "len(np.unique(df['image_id']))"
   ]
  },
  {
   "cell_type": "code",
   "execution_count": 108,
   "metadata": {},
   "outputs": [],
   "source": [
    "df = df.drop_duplicates(subset=['image_id'], keep='first')"
   ]
  },
  {
   "cell_type": "code",
   "execution_count": 109,
   "metadata": {},
   "outputs": [
    {
     "data": {
      "text/html": [
       "<div>\n",
       "<style scoped>\n",
       "    .dataframe tbody tr th:only-of-type {\n",
       "        vertical-align: middle;\n",
       "    }\n",
       "\n",
       "    .dataframe tbody tr th {\n",
       "        vertical-align: top;\n",
       "    }\n",
       "\n",
       "    .dataframe thead th {\n",
       "        text-align: right;\n",
       "    }\n",
       "</style>\n",
       "<table border=\"1\" class=\"dataframe\">\n",
       "  <thead>\n",
       "    <tr style=\"text-align: right;\">\n",
       "      <th></th>\n",
       "      <th>brand</th>\n",
       "      <th>model</th>\n",
       "      <th>price</th>\n",
       "      <th>gender</th>\n",
       "      <th>url</th>\n",
       "      <th>image_position</th>\n",
       "      <th>image_id</th>\n",
       "    </tr>\n",
       "  </thead>\n",
       "  <tbody>\n",
       "    <tr>\n",
       "      <th>0</th>\n",
       "      <td>gmbh</td>\n",
       "      <td>black adem boots</td>\n",
       "      <td>630</td>\n",
       "      <td>men</td>\n",
       "      <td>https://res.cloudinary.com/ssenseweb/image/upl...</td>\n",
       "      <td>1</td>\n",
       "      <td>10190355733807254877</td>\n",
       "    </tr>\n",
       "    <tr>\n",
       "      <th>4</th>\n",
       "      <td>c2h4</td>\n",
       "      <td>black boson boots</td>\n",
       "      <td>820</td>\n",
       "      <td>men</td>\n",
       "      <td>https://res.cloudinary.com/ssenseweb/image/upl...</td>\n",
       "      <td>1</td>\n",
       "      <td>17136764886245495713</td>\n",
       "    </tr>\n",
       "    <tr>\n",
       "      <th>8</th>\n",
       "      <td>burberry</td>\n",
       "      <td>black &amp; purple check pillow boots</td>\n",
       "      <td>1140</td>\n",
       "      <td>men</td>\n",
       "      <td>https://res.cloudinary.com/ssenseweb/image/upl...</td>\n",
       "      <td>1</td>\n",
       "      <td>14896042988606270054</td>\n",
       "    </tr>\n",
       "    <tr>\n",
       "      <th>12</th>\n",
       "      <td>on</td>\n",
       "      <td>black &amp; beige cloudvista sneakers</td>\n",
       "      <td>235</td>\n",
       "      <td>men</td>\n",
       "      <td>https://res.cloudinary.com/ssenseweb/image/upl...</td>\n",
       "      <td>1</td>\n",
       "      <td>9093049312616985085</td>\n",
       "    </tr>\n",
       "    <tr>\n",
       "      <th>16</th>\n",
       "      <td>salomon</td>\n",
       "      <td>white acs pro sneakers</td>\n",
       "      <td>360</td>\n",
       "      <td>men</td>\n",
       "      <td>https://res.cloudinary.com/ssenseweb/image/upl...</td>\n",
       "      <td>1</td>\n",
       "      <td>4021592074324545023</td>\n",
       "    </tr>\n",
       "    <tr>\n",
       "      <th>...</th>\n",
       "      <td>...</td>\n",
       "      <td>...</td>\n",
       "      <td>...</td>\n",
       "      <td>...</td>\n",
       "      <td>...</td>\n",
       "      <td>...</td>\n",
       "      <td>...</td>\n",
       "    </tr>\n",
       "    <tr>\n",
       "      <th>42220</th>\n",
       "      <td>marsèll</td>\n",
       "      <td>black spanciata sandals</td>\n",
       "      <td>820</td>\n",
       "      <td>women</td>\n",
       "      <td>https://res.cloudinary.com/ssenseweb/image/upl...</td>\n",
       "      <td>1</td>\n",
       "      <td>5640411205116376484</td>\n",
       "    </tr>\n",
       "    <tr>\n",
       "      <th>42224</th>\n",
       "      <td>marsèll</td>\n",
       "      <td>brown spanciata sandals</td>\n",
       "      <td>800</td>\n",
       "      <td>women</td>\n",
       "      <td>https://res.cloudinary.com/ssenseweb/image/upl...</td>\n",
       "      <td>1</td>\n",
       "      <td>10411130418477679638</td>\n",
       "    </tr>\n",
       "    <tr>\n",
       "      <th>42228</th>\n",
       "      <td>marsèll</td>\n",
       "      <td>black tillo heels</td>\n",
       "      <td>845</td>\n",
       "      <td>women</td>\n",
       "      <td>https://res.cloudinary.com/ssenseweb/image/upl...</td>\n",
       "      <td>1</td>\n",
       "      <td>16726967725239308213</td>\n",
       "    </tr>\n",
       "    <tr>\n",
       "      <th>42232</th>\n",
       "      <td>lauren manoogian</td>\n",
       "      <td>brown welt mules</td>\n",
       "      <td>655</td>\n",
       "      <td>women</td>\n",
       "      <td>https://res.cloudinary.com/ssenseweb/image/upl...</td>\n",
       "      <td>1</td>\n",
       "      <td>10583823007434153829</td>\n",
       "    </tr>\n",
       "    <tr>\n",
       "      <th>42236</th>\n",
       "      <td>paris texas</td>\n",
       "      <td>silver lidia 70 mules</td>\n",
       "      <td>715</td>\n",
       "      <td>women</td>\n",
       "      <td>https://res.cloudinary.com/ssenseweb/image/upl...</td>\n",
       "      <td>1</td>\n",
       "      <td>6116548553118087077</td>\n",
       "    </tr>\n",
       "  </tbody>\n",
       "</table>\n",
       "<p>10560 rows × 7 columns</p>\n",
       "</div>"
      ],
      "text/plain": [
       "                  brand                              model  price gender  \\\n",
       "0                  gmbh                   black adem boots    630    men   \n",
       "4                  c2h4                  black boson boots    820    men   \n",
       "8              burberry  black & purple check pillow boots   1140    men   \n",
       "12                   on  black & beige cloudvista sneakers    235    men   \n",
       "16              salomon             white acs pro sneakers    360    men   \n",
       "...                 ...                                ...    ...    ...   \n",
       "42220           marsèll            black spanciata sandals    820  women   \n",
       "42224           marsèll            brown spanciata sandals    800  women   \n",
       "42228           marsèll                  black tillo heels    845  women   \n",
       "42232  lauren manoogian                   brown welt mules    655  women   \n",
       "42236       paris texas              silver lidia 70 mules    715  women   \n",
       "\n",
       "                                                     url image_position  \\\n",
       "0      https://res.cloudinary.com/ssenseweb/image/upl...              1   \n",
       "4      https://res.cloudinary.com/ssenseweb/image/upl...              1   \n",
       "8      https://res.cloudinary.com/ssenseweb/image/upl...              1   \n",
       "12     https://res.cloudinary.com/ssenseweb/image/upl...              1   \n",
       "16     https://res.cloudinary.com/ssenseweb/image/upl...              1   \n",
       "...                                                  ...            ...   \n",
       "42220  https://res.cloudinary.com/ssenseweb/image/upl...              1   \n",
       "42224  https://res.cloudinary.com/ssenseweb/image/upl...              1   \n",
       "42228  https://res.cloudinary.com/ssenseweb/image/upl...              1   \n",
       "42232  https://res.cloudinary.com/ssenseweb/image/upl...              1   \n",
       "42236  https://res.cloudinary.com/ssenseweb/image/upl...              1   \n",
       "\n",
       "                   image_id  \n",
       "0      10190355733807254877  \n",
       "4      17136764886245495713  \n",
       "8      14896042988606270054  \n",
       "12      9093049312616985085  \n",
       "16      4021592074324545023  \n",
       "...                     ...  \n",
       "42220   5640411205116376484  \n",
       "42224  10411130418477679638  \n",
       "42228  16726967725239308213  \n",
       "42232  10583823007434153829  \n",
       "42236   6116548553118087077  \n",
       "\n",
       "[10560 rows x 7 columns]"
      ]
     },
     "execution_count": 109,
     "metadata": {},
     "output_type": "execute_result"
    }
   ],
   "source": [
    "df"
   ]
  },
  {
   "cell_type": "code",
   "execution_count": 112,
   "metadata": {},
   "outputs": [
    {
     "data": {
      "text/plain": [
       "mean      779.495739\n",
       "median    685.000000\n",
       "Name: price, dtype: float64"
      ]
     },
     "execution_count": 112,
     "metadata": {},
     "output_type": "execute_result"
    }
   ],
   "source": [
    "df['price'].agg(['mean', 'median'])"
   ]
  },
  {
   "cell_type": "code",
   "execution_count": 114,
   "metadata": {},
   "outputs": [
    {
     "data": {
      "text/plain": [
       "array([ 360.  ,  685.  , 1071.25, 1435.  ])"
      ]
     },
     "execution_count": 114,
     "metadata": {},
     "output_type": "execute_result"
    }
   ],
   "source": [
    "np.quantile(df['price'], [0.25, 0.5, 0.75, 0.9])"
   ]
  },
  {
   "cell_type": "code",
   "execution_count": 121,
   "metadata": {},
   "outputs": [],
   "source": [
    "def generate_prompt(brand: str, model: str, gender: str, price: int):\n",
    "    \"\"\"_summary_\n",
    "\n",
    "    Args:\n",
    "        brand (str): brand\n",
    "        model (str): model\n",
    "        gender (str): gender\n",
    "        price (int): price\n",
    "    \"\"\"\n",
    "    return f\"\"\"\n",
    "    These are shoes for {gender} from brand {brand} model {model}. Item price is {price} dollars.\n",
    "    \"\"\".strip()"
   ]
  },
  {
   "cell_type": "code",
   "execution_count": 122,
   "metadata": {},
   "outputs": [
    {
     "data": {
      "text/plain": [
       "'These are shoes for men from brand a model b. Item price is 150 dollars.'"
      ]
     },
     "execution_count": 122,
     "metadata": {},
     "output_type": "execute_result"
    }
   ],
   "source": [
    "generate_prompt('a', 'b', 'men', 150)"
   ]
  },
  {
   "cell_type": "code",
   "execution_count": 124,
   "metadata": {},
   "outputs": [],
   "source": [
    "df['prompt'] = df.apply(lambda x: generate_prompt(x['brand'], x['model'], x['gender'], x['price']), axis=1)"
   ]
  },
  {
   "cell_type": "code",
   "execution_count": 168,
   "metadata": {},
   "outputs": [],
   "source": [
    "df.to_csv('url_dataset_extended.csv', index=None)"
   ]
  },
  {
   "cell_type": "code",
   "execution_count": 130,
   "metadata": {},
   "outputs": [
    {
     "data": {
      "text/plain": [
       "'These are shoes for women from brand bottega veneta model beige cha-cha mules. Item price is 1455 dollars.'"
      ]
     },
     "execution_count": 130,
     "metadata": {},
     "output_type": "execute_result"
    }
   ],
   "source": [
    "df['prompt'].sample(1).values[0]"
   ]
  },
  {
   "cell_type": "code",
   "execution_count": 134,
   "metadata": {},
   "outputs": [
    {
     "data": {
      "text/plain": [
       "'https://res.cloudinary.com/ssenseweb/image/upload/b_white,c_lpad,g_center,h_1412,w_940/c_scale,h_960/f_auto,dpr_2.0/231003F128002_1.jpg'"
      ]
     },
     "execution_count": 134,
     "metadata": {},
     "output_type": "execute_result"
    }
   ],
   "source": [
    "df['url'].sample(1).values[0]"
   ]
  },
  {
   "cell_type": "code",
   "execution_count": null,
   "metadata": {},
   "outputs": [],
   "source": [
    "from io import StringIO, BytesIO\n",
    "from PIL import Image"
   ]
  },
  {
   "cell_type": "code",
   "execution_count": null,
   "metadata": {},
   "outputs": [],
   "source": [
    "for url in tqdm(URLS):\n",
    "    requests.get(url=url)"
   ]
  },
  {
   "cell_type": "code",
   "execution_count": 144,
   "metadata": {},
   "outputs": [],
   "source": [
    "from os import listdir"
   ]
  },
  {
   "cell_type": "code",
   "execution_count": 167,
   "metadata": {},
   "outputs": [
    {
     "data": {
      "text/plain": [
       "10560"
      ]
     },
     "execution_count": 167,
     "metadata": {},
     "output_type": "execute_result"
    }
   ],
   "source": [
    "len(listdir('images/'))"
   ]
  },
  {
   "cell_type": "code",
   "execution_count": null,
   "metadata": {},
   "outputs": [],
   "source": []
  }
 ],
 "metadata": {
  "kernelspec": {
   "display_name": "simular-sneakers-73n98Rwu-py3.9",
   "language": "python",
   "name": "python3"
  },
  "language_info": {
   "codemirror_mode": {
    "name": "ipython",
    "version": 3
   },
   "file_extension": ".py",
   "mimetype": "text/x-python",
   "name": "python",
   "nbconvert_exporter": "python",
   "pygments_lexer": "ipython3",
   "version": "3.9.18"
  }
 },
 "nbformat": 4,
 "nbformat_minor": 2
}
