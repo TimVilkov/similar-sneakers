{
 "cells": [
  {
   "cell_type": "code",
   "execution_count": 67,
   "metadata": {},
   "outputs": [],
   "source": [
    "import pandas as pd\n",
    "import numpy as np\n",
    "\n",
    "from tqdm import tqdm\n",
    "from PIL import Image\n",
    "from os import listdir"
   ]
  },
  {
   "cell_type": "code",
   "execution_count": 74,
   "metadata": {},
   "outputs": [],
   "source": [
    "df = pd.read_excel('/Users/timofejvilkov/Downloads/Similar sneakers. Labelled sample (1).xlsx')"
   ]
  },
  {
   "cell_type": "code",
   "execution_count": 75,
   "metadata": {},
   "outputs": [],
   "source": [
    "COLUMNS = [\n",
    "    'brand',\n",
    "    'gender', \n",
    "    'model', \n",
    "    'price', \n",
    "    'prompt',\n",
    "    'black high top sneakers with white sole',\n",
    "    'converse sneakers',\n",
    "    'Converse sneakers in an unusual color (not black or white!)',\n",
    "    'black leather oxfords',\n",
    "    'black leather oxfords under $300',\n",
    "    'women\\'s leather boots medium height light color',\n",
    "    'women\\'s light-colored sandals over $1,000',\n",
    "    'sneakers with the letter N on the side',\n",
    "    '530 New Balance',\n",
    "    'brown New Balance sneakers with a classic silhouette',\n",
    "    'branded expensive shoes with large letters on the soles',\n",
    "    'unusual bright fabric sneakers in silver and bright green colors',\n",
    "    'shoes with a cage on a beige background and large black, white, red stripes of which it consists',\n",
    "    'barberry leather sneakers',\n",
    "    'black loafers',\n",
    "    'black loafers Batega venet ', \n",
    "    'strappy high heel sandals',\n",
    "    'black loafers Bottega Veneta ', 'rick owens black stocking boots',\n",
    "    'lightweight, stylish shoes for walking or training',\n",
    "    'women maison margiela anlke boots in purple color',\n",
    "    'pink rockstud heeled sandals',\n",
    "    'bottega veneta boots that looks similar to dr. martens ',\n",
    "    'black sleapers', \n",
    "    'white ankle straps jimmy choo'\n",
    "]"
   ]
  },
  {
   "cell_type": "code",
   "execution_count": 80,
   "metadata": {},
   "outputs": [
    {
     "data": {
      "text/plain": [
       "black high top sneakers with white sole                                                              6\n",
       "converse sneakers                                                                                    8\n",
       "Converse sneakers in an unusual color (not black or white!)                                          3\n",
       "black leather oxfords                                                                                8\n",
       "black leather oxfords under $300                                                                     4\n",
       "women's leather boots medium height light color                                                      2\n",
       "women's light-colored sandals over $1,000                                                            1\n",
       "sneakers with the letter N on the side                                                              13\n",
       "530 New Balance                                                                                      2\n",
       "brown New Balance sneakers with a classic silhouette                                                 1\n",
       "branded expensive shoes with large letters on the soles                                              3\n",
       "unusual bright fabric sneakers in silver and bright green colors                                     1\n",
       "shoes with a cage on a beige background and large black, white, red stripes of which it consists     2\n",
       "barberry leather sneakers                                                                            1\n",
       "black loafers                                                                                        3\n",
       "black loafers Batega venet                                                                           2\n",
       "strappy high heel sandals                                                                            4\n",
       "black loafers Bottega Veneta                                                                         1\n",
       "rick owens black stocking boots                                                                      2\n",
       "lightweight, stylish shoes for walking or training                                                  12\n",
       "women maison margiela anlke boots in purple color                                                    2\n",
       "pink rockstud heeled sandals                                                                         1\n",
       "bottega veneta boots that looks similar to dr. martens                                               1\n",
       "black sleapers                                                                                       6\n",
       "white ankle straps jimmy choo                                                                        1\n",
       "dtype: int64"
      ]
     },
     "execution_count": 80,
     "metadata": {},
     "output_type": "execute_result"
    }
   ],
   "source": [
    "df[COLUMNS[5:]].sum(axis=0)"
   ]
  },
  {
   "cell_type": "code",
   "execution_count": 83,
   "metadata": {},
   "outputs": [],
   "source": [
    "df = df.set_index('image_id')[COLUMNS[5:]].T"
   ]
  },
  {
   "cell_type": "code",
   "execution_count": 84,
   "metadata": {},
   "outputs": [],
   "source": [
    "df.to_csv(\"labelled_dataset.csv\")"
   ]
  },
  {
   "cell_type": "code",
   "execution_count": 89,
   "metadata": {},
   "outputs": [],
   "source": [
    "IMAGES = df.columns"
   ]
  },
  {
   "cell_type": "code",
   "execution_count": 90,
   "metadata": {},
   "outputs": [
    {
     "data": {
      "text/plain": [
       "150"
      ]
     },
     "execution_count": 90,
     "metadata": {},
     "output_type": "execute_result"
    }
   ],
   "source": [
    "len(IMAGES)"
   ]
  },
  {
   "cell_type": "code",
   "execution_count": 95,
   "metadata": {},
   "outputs": [
    {
     "name": "stderr",
     "output_type": "stream",
     "text": [
      "100%|██████████| 150/150 [00:01<00:00, 94.53it/s] \n"
     ]
    }
   ],
   "source": [
    "for image_id in tqdm(IMAGES):\n",
    "    image = Image.open(f\"resized_images/{image_id}.png\")\n",
    "    image.save(f\"golden_dataset/{image_id}.png\")"
   ]
  },
  {
   "cell_type": "code",
   "execution_count": null,
   "metadata": {},
   "outputs": [],
   "source": []
  }
 ],
 "metadata": {
  "kernelspec": {
   "display_name": "simular-sneakers-73n98Rwu-py3.9",
   "language": "python",
   "name": "python3"
  },
  "language_info": {
   "codemirror_mode": {
    "name": "ipython",
    "version": 3
   },
   "file_extension": ".py",
   "mimetype": "text/x-python",
   "name": "python",
   "nbconvert_exporter": "python",
   "pygments_lexer": "ipython3",
   "version": "3.9.18"
  }
 },
 "nbformat": 4,
 "nbformat_minor": 2
}
