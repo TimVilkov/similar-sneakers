{
 "cells": [
  {
   "cell_type": "code",
   "execution_count": 52,
   "metadata": {},
   "outputs": [],
   "source": [
    "import pandas as pd \n",
    "import numpy as np \n",
    "import json\n",
    "import time\n",
    "import tqdm\n",
    "\n",
    "import requests\n",
    "import cloudscraper\n",
    "\n",
    "from curl_params import HEADERS, COOKIES, get_params\n",
    "\n",
    "SLEEP_TIME = 20"
   ]
  },
  {
   "cell_type": "markdown",
   "metadata": {},
   "source": [
    "# Parse men shoes"
   ]
  },
  {
   "cell_type": "code",
   "execution_count": 53,
   "metadata": {},
   "outputs": [
    {
     "name": "stderr",
     "output_type": "stream",
     "text": [
      "100%|██████████| 41/41 [14:28<00:00, 21.19s/it]\n"
     ]
    }
   ],
   "source": [
    "cloudscraper = cloudscraper.create_scraper()\n",
    "\n",
    "with open('raw_data_urls.json', \"r\") as file:\n",
    "    data = json.load(file)\n",
    "\n",
    "page_list = [str(page_number) for page_number in range(1, 42)]\n",
    "page_list = list(set(page_list) - set(list(data['men']['pages'].keys())))\n",
    "\n",
    "for page_number in tqdm.tqdm(page_list):\n",
    "    response = cloudscraper.get('https://www.ssense.com/en-id/men/shoes.json',\n",
    "                         params=get_params(page_number=int(page_number)),\n",
    "                         cookies=COOKIES,\n",
    "                         headers=HEADERS)\n",
    "    if response.status_code == 200:\n",
    "        with open('raw_data_urls.json', \"r\") as file:\n",
    "            data = json.load(file)\n",
    "            if page_number not in data['men']['pages'].keys():\n",
    "                data['men']['pages'][page_number] = response.json()['products']\n",
    "                with open('raw_data_urls.json', \"w\") as file:\n",
    "                    json.dump(data, file)\n",
    "    else:\n",
    "        print(f\"response failed with status code {response.status_code}, page_number {page_number}\")\n",
    "    time.sleep(SLEEP_TIME)"
   ]
  },
  {
   "cell_type": "markdown",
   "metadata": {},
   "source": [
    "# Parse women shoes"
   ]
  },
  {
   "cell_type": "code",
   "execution_count": 55,
   "metadata": {},
   "outputs": [
    {
     "name": "stderr",
     "output_type": "stream",
     "text": [
      "100%|██████████| 47/47 [17:07<00:00, 21.86s/it]\n"
     ]
    }
   ],
   "source": [
    "cloudscraper = cloudscraper.create_scraper()\n",
    "\n",
    "with open('raw_data_urls.json', \"r\") as file:\n",
    "    data = json.load(file)\n",
    "\n",
    "page_list = [str(page_number) for page_number in range(1, 48)]\n",
    "page_list = list(set(page_list) - set(list(data['women']['pages'].keys())))\n",
    "\n",
    "for page_number in tqdm.tqdm(page_list):\n",
    "    response = cloudscraper.get('https://www.ssense.com/en-id/women/shoes.json',\n",
    "                         params=get_params(page_number=int(page_number)),\n",
    "                         cookies=COOKIES,\n",
    "                         headers=HEADERS)\n",
    "    if response.status_code == 200:\n",
    "        with open('raw_data_urls.json', \"r\") as file:\n",
    "            data = json.load(file)\n",
    "            if page_number not in data['women']['pages'].keys():\n",
    "                data['women']['pages'][page_number] = response.json()['products']\n",
    "                with open('raw_data_urls.json', \"w\") as file:\n",
    "                    json.dump(data, file)\n",
    "    else:\n",
    "        print(f\"response failed with status code {response.status_code}, page_number {page_number}\")\n",
    "    time.sleep(SLEEP_TIME)"
   ]
  },
  {
   "cell_type": "code",
   "execution_count": 80,
   "metadata": {},
   "outputs": [],
   "source": [
    "def extract_brand(product: dict) -> str: \n",
    "    \"\"\"extract brand from json\n",
    "\n",
    "    Args:\n",
    "        product (dict): \n",
    "\n",
    "    Returns:\n",
    "        str: \n",
    "    \"\"\"\n",
    "    return product['brand']['name']['en']\n",
    "    \n",
    "\n",
    "def extract_model(product: dict) -> str: \n",
    "    \"\"\"extract brand from json\n",
    "\n",
    "    Args:\n",
    "        product (dict): \n",
    "\n",
    "    Returns:\n",
    "        str: \n",
    "    \"\"\"\n",
    "    return product['name']['en']\n",
    "    \n",
    "\n",
    "def extract_photos(product: dict) -> str: \n",
    "    \"\"\"extract photos from json\n",
    "\n",
    "    Args:\n",
    "        product (dict): \n",
    "\n",
    "    Returns:\n",
    "        str: \n",
    "    \"\"\"\n",
    "    IMAGE_PARAMS = \"b_white,c_lpad,g_center,h_1412,w_940/c_scale,h_960/f_auto,dpr_2.0\"\n",
    "    ID = product['image'][0]\n",
    "    ID = ID[67:-6]\n",
    "    return [f\"https://res.cloudinary.com/ssenseweb/image/upload/{IMAGE_PARAMS}/{ID}_{x}.jpg\"\n",
    "            for x in range(1, 5)]\n",
    "    "
   ]
  },
  {
   "cell_type": "code",
   "execution_count": 81,
   "metadata": {},
   "outputs": [
    {
     "data": {
      "text/plain": [
       "['https://res.cloudinary.com/ssenseweb/image/upload/b_white,c_lpad,g_center,h_1412,w_940/c_scale,h_960/f_auto,dpr_2.0/241129F122007_1.jpg',\n",
       " 'https://res.cloudinary.com/ssenseweb/image/upload/b_white,c_lpad,g_center,h_1412,w_940/c_scale,h_960/f_auto,dpr_2.0/241129F122007_2.jpg',\n",
       " 'https://res.cloudinary.com/ssenseweb/image/upload/b_white,c_lpad,g_center,h_1412,w_940/c_scale,h_960/f_auto,dpr_2.0/241129F122007_3.jpg',\n",
       " 'https://res.cloudinary.com/ssenseweb/image/upload/b_white,c_lpad,g_center,h_1412,w_940/c_scale,h_960/f_auto,dpr_2.0/241129F122007_4.jpg']"
      ]
     },
     "execution_count": 81,
     "metadata": {},
     "output_type": "execute_result"
    }
   ],
   "source": [
    "extract_photos(response.json()['products'][0])"
   ]
  },
  {
   "cell_type": "markdown",
   "metadata": {},
   "source": [
    "# Dataset from raw data"
   ]
  },
  {
   "cell_type": "code",
   "execution_count": 87,
   "metadata": {},
   "outputs": [],
   "source": [
    "with open('raw_data_urls.json', \"r\") as file:\n",
    "    data = json.load(file)"
   ]
  },
  {
   "cell_type": "code",
   "execution_count": 97,
   "metadata": {},
   "outputs": [
    {
     "name": "stderr",
     "output_type": "stream",
     "text": [
      "100%|██████████| 41/41 [00:23<00:00,  1.72it/s]\n",
      "100%|██████████| 47/47 [00:33<00:00,  1.39it/s]\n"
     ]
    }
   ],
   "source": [
    "df = pd.DataFrame()\n",
    "\n",
    "for gender in data.keys():\n",
    "    for page_number in tqdm.tqdm(data[gender]['pages'].keys()):\n",
    "        for product in data[gender]['pages'][page_number]:\n",
    "            brand = extract_brand(product=product)\n",
    "            model = extract_model(product=product)\n",
    "            photos = extract_photos(product=product)\n",
    "            tmp_df = pd.DataFrame({\"brand\": [brand]*4,\n",
    "                                   \"model\": [model]*4,\n",
    "                                   \"url\": photos})\n",
    "            df = pd.concat([df, tmp_df])"
   ]
  },
  {
   "cell_type": "code",
   "execution_count": 98,
   "metadata": {},
   "outputs": [
    {
     "data": {
      "text/html": [
       "<div>\n",
       "<style scoped>\n",
       "    .dataframe tbody tr th:only-of-type {\n",
       "        vertical-align: middle;\n",
       "    }\n",
       "\n",
       "    .dataframe tbody tr th {\n",
       "        vertical-align: top;\n",
       "    }\n",
       "\n",
       "    .dataframe thead th {\n",
       "        text-align: right;\n",
       "    }\n",
       "</style>\n",
       "<table border=\"1\" class=\"dataframe\">\n",
       "  <thead>\n",
       "    <tr style=\"text-align: right;\">\n",
       "      <th></th>\n",
       "      <th>brand</th>\n",
       "      <th>model</th>\n",
       "      <th>url</th>\n",
       "    </tr>\n",
       "  </thead>\n",
       "  <tbody>\n",
       "    <tr>\n",
       "      <th>0</th>\n",
       "      <td>Vans</td>\n",
       "      <td>Navy Old Skool 36 Sneakers</td>\n",
       "      <td>https://res.cloudinary.com/ssenseweb/image/upl...</td>\n",
       "    </tr>\n",
       "    <tr>\n",
       "      <th>1</th>\n",
       "      <td>Vans</td>\n",
       "      <td>Navy Old Skool 36 Sneakers</td>\n",
       "      <td>https://res.cloudinary.com/ssenseweb/image/upl...</td>\n",
       "    </tr>\n",
       "    <tr>\n",
       "      <th>2</th>\n",
       "      <td>Vans</td>\n",
       "      <td>Navy Old Skool 36 Sneakers</td>\n",
       "      <td>https://res.cloudinary.com/ssenseweb/image/upl...</td>\n",
       "    </tr>\n",
       "    <tr>\n",
       "      <th>3</th>\n",
       "      <td>Vans</td>\n",
       "      <td>Navy Old Skool 36 Sneakers</td>\n",
       "      <td>https://res.cloudinary.com/ssenseweb/image/upl...</td>\n",
       "    </tr>\n",
       "    <tr>\n",
       "      <th>0</th>\n",
       "      <td>Vans</td>\n",
       "      <td>Off-White Old Skool 36 LX Sneakers</td>\n",
       "      <td>https://res.cloudinary.com/ssenseweb/image/upl...</td>\n",
       "    </tr>\n",
       "    <tr>\n",
       "      <th>...</th>\n",
       "      <td>...</td>\n",
       "      <td>...</td>\n",
       "      <td>...</td>\n",
       "    </tr>\n",
       "    <tr>\n",
       "      <th>3</th>\n",
       "      <td>Proenza Schouler</td>\n",
       "      <td>Red Square Flat Strappy Sandals</td>\n",
       "      <td>https://res.cloudinary.com/ssenseweb/image/upl...</td>\n",
       "    </tr>\n",
       "    <tr>\n",
       "      <th>0</th>\n",
       "      <td>TOTEME</td>\n",
       "      <td>Black 'The Suede Tie' Sandals</td>\n",
       "      <td>https://res.cloudinary.com/ssenseweb/image/upl...</td>\n",
       "    </tr>\n",
       "    <tr>\n",
       "      <th>1</th>\n",
       "      <td>TOTEME</td>\n",
       "      <td>Black 'The Suede Tie' Sandals</td>\n",
       "      <td>https://res.cloudinary.com/ssenseweb/image/upl...</td>\n",
       "    </tr>\n",
       "    <tr>\n",
       "      <th>2</th>\n",
       "      <td>TOTEME</td>\n",
       "      <td>Black 'The Suede Tie' Sandals</td>\n",
       "      <td>https://res.cloudinary.com/ssenseweb/image/upl...</td>\n",
       "    </tr>\n",
       "    <tr>\n",
       "      <th>3</th>\n",
       "      <td>TOTEME</td>\n",
       "      <td>Black 'The Suede Tie' Sandals</td>\n",
       "      <td>https://res.cloudinary.com/ssenseweb/image/upl...</td>\n",
       "    </tr>\n",
       "  </tbody>\n",
       "</table>\n",
       "<p>42240 rows × 3 columns</p>\n",
       "</div>"
      ],
      "text/plain": [
       "               brand                               model  \\\n",
       "0               Vans          Navy Old Skool 36 Sneakers   \n",
       "1               Vans          Navy Old Skool 36 Sneakers   \n",
       "2               Vans          Navy Old Skool 36 Sneakers   \n",
       "3               Vans          Navy Old Skool 36 Sneakers   \n",
       "0               Vans  Off-White Old Skool 36 LX Sneakers   \n",
       "..               ...                                 ...   \n",
       "3   Proenza Schouler     Red Square Flat Strappy Sandals   \n",
       "0             TOTEME       Black 'The Suede Tie' Sandals   \n",
       "1             TOTEME       Black 'The Suede Tie' Sandals   \n",
       "2             TOTEME       Black 'The Suede Tie' Sandals   \n",
       "3             TOTEME       Black 'The Suede Tie' Sandals   \n",
       "\n",
       "                                                  url  \n",
       "0   https://res.cloudinary.com/ssenseweb/image/upl...  \n",
       "1   https://res.cloudinary.com/ssenseweb/image/upl...  \n",
       "2   https://res.cloudinary.com/ssenseweb/image/upl...  \n",
       "3   https://res.cloudinary.com/ssenseweb/image/upl...  \n",
       "0   https://res.cloudinary.com/ssenseweb/image/upl...  \n",
       "..                                                ...  \n",
       "3   https://res.cloudinary.com/ssenseweb/image/upl...  \n",
       "0   https://res.cloudinary.com/ssenseweb/image/upl...  \n",
       "1   https://res.cloudinary.com/ssenseweb/image/upl...  \n",
       "2   https://res.cloudinary.com/ssenseweb/image/upl...  \n",
       "3   https://res.cloudinary.com/ssenseweb/image/upl...  \n",
       "\n",
       "[42240 rows x 3 columns]"
      ]
     },
     "execution_count": 98,
     "metadata": {},
     "output_type": "execute_result"
    }
   ],
   "source": [
    "df"
   ]
  },
  {
   "cell_type": "code",
   "execution_count": 99,
   "metadata": {},
   "outputs": [],
   "source": [
    "df.to_csv('url_dataset.csv', index=None)"
   ]
  },
  {
   "cell_type": "code",
   "execution_count": null,
   "metadata": {},
   "outputs": [],
   "source": []
  }
 ],
 "metadata": {
  "kernelspec": {
   "display_name": "Python 3",
   "language": "python",
   "name": "python3"
  },
  "language_info": {
   "codemirror_mode": {
    "name": "ipython",
    "version": 3
   },
   "file_extension": ".py",
   "mimetype": "text/x-python",
   "name": "python",
   "nbconvert_exporter": "python",
   "pygments_lexer": "ipython3",
   "version": "3.8.5"
  }
 },
 "nbformat": 4,
 "nbformat_minor": 2
}
