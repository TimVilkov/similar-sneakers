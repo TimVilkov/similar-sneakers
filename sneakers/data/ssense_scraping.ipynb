{
 "cells": [
  {
   "cell_type": "code",
   "execution_count": 1,
   "metadata": {},
   "outputs": [
    {
     "name": "stderr",
     "output_type": "stream",
     "text": [
      "/var/folders/rn/n96315xj07s91rcy_t4k4h2r0000gn/T/ipykernel_78032/3220299706.py:1: DeprecationWarning: \n",
      "Pyarrow will become a required dependency of pandas in the next major release of pandas (pandas 3.0),\n",
      "(to allow more performant data types, such as the Arrow string type, and better interoperability with other libraries)\n",
      "but was not found to be installed on your system.\n",
      "If this would cause problems for you,\n",
      "please provide us feedback at https://github.com/pandas-dev/pandas/issues/54466\n",
      "        \n",
      "  import pandas as pd\n"
     ]
    }
   ],
   "source": [
    "import pandas as pd \n",
    "import numpy as np \n",
    "import json\n",
    "import time\n",
    "import tqdm\n",
    "\n",
    "import requests\n",
    "import cloudscraper\n",
    "\n",
    "from curl_params import HEADERS, COOKIES, get_params\n",
    "\n",
    "SLEEP_TIME = 20"
   ]
  },
  {
   "cell_type": "markdown",
   "metadata": {},
   "source": [
    "# Parse men shoes"
   ]
  },
  {
   "cell_type": "code",
   "execution_count": 17,
   "metadata": {},
   "outputs": [
    {
     "name": "stderr",
     "output_type": "stream",
     "text": [
      "0it [00:00, ?it/s]\n"
     ]
    }
   ],
   "source": [
    "cloudscraper = cloudscraper.create_scraper()\n",
    "\n",
    "with open('raw_data_urls.json', \"r\") as file:\n",
    "    data = json.load(file)\n",
    "\n",
    "page_list = [str(page_number) for page_number in range(1, 42)]\n",
    "page_list = list(set(page_list) - set(list(data['men']['pages'].keys())))\n",
    "\n",
    "for page_number in tqdm.tqdm(page_list):\n",
    "    response = cloudscraper.get('https://www.ssense.com/en-id/men/shoes.json',\n",
    "                         params=get_params(page_number=int(page_number)),\n",
    "                         cookies=COOKIES,\n",
    "                         headers=HEADERS)\n",
    "    if response.status_code == 200:\n",
    "        with open('raw_data_urls.json', \"r\") as file:\n",
    "            data = json.load(file)\n",
    "            if page_number not in data['men']['pages'].keys():\n",
    "                data['men']['pages'][page_number] = response.json()['products']\n",
    "                with open('raw_data_urls.json', \"w\") as file:\n",
    "                    json.dump(data, file)\n",
    "    else:\n",
    "        print(f\"response failed with status code {response.status_code}, page_number {page_number}\")\n",
    "    time.sleep(SLEEP_TIME)"
   ]
  },
  {
   "cell_type": "markdown",
   "metadata": {},
   "source": [
    "# Parse women shoes"
   ]
  },
  {
   "cell_type": "code",
   "execution_count": 18,
   "metadata": {},
   "outputs": [
    {
     "name": "stderr",
     "output_type": "stream",
     "text": [
      "100%|██████████| 47/47 [18:18<00:00, 23.38s/it]\n"
     ]
    }
   ],
   "source": [
    "cloudscraper = cloudscraper.create_scraper()\n",
    "\n",
    "with open('raw_data_urls.json', \"r\") as file:\n",
    "    data = json.load(file)\n",
    "\n",
    "page_list = [str(page_number) for page_number in range(1, 48)]\n",
    "page_list = list(set(page_list) - set(list(data['women']['pages'].keys())))\n",
    "\n",
    "for page_number in tqdm.tqdm(page_list):\n",
    "    response = cloudscraper.get('https://www.ssense.com/en-id/women/shoes.json',\n",
    "                         params=get_params(page_number=int(page_number)),\n",
    "                         cookies=COOKIES,\n",
    "                         headers=HEADERS)\n",
    "    if response.status_code == 200:\n",
    "        with open('raw_data_urls.json', \"r\") as file:\n",
    "            data = json.load(file)\n",
    "            if page_number not in data['women']['pages'].keys():\n",
    "                data['women']['pages'][page_number] = response.json()['products']\n",
    "                with open('raw_data_urls.json', \"w\") as file:\n",
    "                    json.dump(data, file)\n",
    "    else:\n",
    "        print(f\"response failed with status code {response.status_code}, page_number {page_number}\")\n",
    "    time.sleep(SLEEP_TIME)"
   ]
  },
  {
   "cell_type": "code",
   "execution_count": 43,
   "metadata": {},
   "outputs": [],
   "source": [
    "def extract_brand(product: dict) -> str: \n",
    "    \"\"\"extract brand from json\n",
    "\n",
    "    Args:\n",
    "        product (dict): \n",
    "\n",
    "    Returns:\n",
    "        str: \n",
    "    \"\"\"\n",
    "    return product['brand']['name']['en']\n",
    "    \n",
    "\n",
    "def extract_model(product: dict) -> str: \n",
    "    \"\"\"extract brand from json\n",
    "\n",
    "    Args:\n",
    "        product (dict): \n",
    "\n",
    "    Returns:\n",
    "        str: \n",
    "    \"\"\"\n",
    "    return product['name']['en']\n",
    "\n",
    "def extract_price(product: dict) -> str: \n",
    "    \"\"\"extract brand from json\n",
    "\n",
    "    Args:\n",
    "        product (dict): \n",
    "\n",
    "    Returns:\n",
    "        str: \n",
    "    \"\"\"\n",
    "    return product['priceByCountry'][0]['regular']\n",
    "\n",
    "def extract_gender(product: dict) -> str: \n",
    "    \"\"\"extract brand from json\n",
    "\n",
    "    Args:\n",
    "        product (dict): \n",
    "\n",
    "    Returns:\n",
    "        str: \n",
    "    \"\"\"\n",
    "    return product['gender']\n",
    "    \n",
    "\n",
    "def extract_photos(product: dict) -> str: \n",
    "    \"\"\"extract photos from json\n",
    "\n",
    "    Args:\n",
    "        product (dict): \n",
    "\n",
    "    Returns:\n",
    "        str: \n",
    "    \"\"\"\n",
    "    IMAGE_PARAMS = \"b_white,c_lpad,g_center,h_1412,w_940/c_scale,h_960/f_auto,dpr_2.0\"\n",
    "    ID = product['image'][0]\n",
    "    ID = ID[67:-6]\n",
    "    return [f\"https://res.cloudinary.com/ssenseweb/image/upload/{IMAGE_PARAMS}/{ID}_{x}.jpg\"\n",
    "            for x in range(1, 5)]\n",
    "    "
   ]
  },
  {
   "cell_type": "markdown",
   "metadata": {},
   "source": [
    "# Dataset from raw data"
   ]
  },
  {
   "cell_type": "code",
   "execution_count": 45,
   "metadata": {},
   "outputs": [],
   "source": [
    "with open('raw_data_urls.json', \"r\") as file:\n",
    "    data = json.load(file)"
   ]
  },
  {
   "cell_type": "code",
   "execution_count": 46,
   "metadata": {},
   "outputs": [
    {
     "name": "stderr",
     "output_type": "stream",
     "text": [
      "  0%|          | 0/41 [00:00<?, ?it/s]"
     ]
    },
    {
     "name": "stderr",
     "output_type": "stream",
     "text": [
      "100%|██████████| 41/41 [00:05<00:00,  6.99it/s]\n",
      "100%|██████████| 47/47 [00:14<00:00,  3.32it/s]\n"
     ]
    }
   ],
   "source": [
    "df = pd.DataFrame()\n",
    "\n",
    "for gender in data.keys():\n",
    "    for page_number in tqdm.tqdm(data[gender]['pages'].keys()):\n",
    "        for product in data[gender]['pages'][page_number]:\n",
    "            brand = extract_brand(product=product)\n",
    "            model = extract_model(product=product)\n",
    "            photos = extract_photos(product=product)\n",
    "            gender = extract_gender(product=product)\n",
    "            price = extract_price(product=product)\n",
    "            tmp_df = pd.DataFrame({\"brand\": [brand]*4,\n",
    "                                   \"model\": [model]*4,\n",
    "                                   \"price\": [price]*4,\n",
    "                                   \"gender\": [gender]*4,\n",
    "                                   \"url\": photos})\n",
    "            df = pd.concat([df, tmp_df])"
   ]
  },
  {
   "cell_type": "code",
   "execution_count": 47,
   "metadata": {},
   "outputs": [
    {
     "data": {
      "text/html": [
       "<div>\n",
       "<style scoped>\n",
       "    .dataframe tbody tr th:only-of-type {\n",
       "        vertical-align: middle;\n",
       "    }\n",
       "\n",
       "    .dataframe tbody tr th {\n",
       "        vertical-align: top;\n",
       "    }\n",
       "\n",
       "    .dataframe thead th {\n",
       "        text-align: right;\n",
       "    }\n",
       "</style>\n",
       "<table border=\"1\" class=\"dataframe\">\n",
       "  <thead>\n",
       "    <tr style=\"text-align: right;\">\n",
       "      <th></th>\n",
       "      <th>brand</th>\n",
       "      <th>model</th>\n",
       "      <th>price</th>\n",
       "      <th>gender</th>\n",
       "      <th>url</th>\n",
       "    </tr>\n",
       "  </thead>\n",
       "  <tbody>\n",
       "    <tr>\n",
       "      <th>0</th>\n",
       "      <td>GmbH</td>\n",
       "      <td>Black Adem Boots</td>\n",
       "      <td>630</td>\n",
       "      <td>men</td>\n",
       "      <td>https://res.cloudinary.com/ssenseweb/image/upl...</td>\n",
       "    </tr>\n",
       "    <tr>\n",
       "      <th>1</th>\n",
       "      <td>GmbH</td>\n",
       "      <td>Black Adem Boots</td>\n",
       "      <td>630</td>\n",
       "      <td>men</td>\n",
       "      <td>https://res.cloudinary.com/ssenseweb/image/upl...</td>\n",
       "    </tr>\n",
       "    <tr>\n",
       "      <th>2</th>\n",
       "      <td>GmbH</td>\n",
       "      <td>Black Adem Boots</td>\n",
       "      <td>630</td>\n",
       "      <td>men</td>\n",
       "      <td>https://res.cloudinary.com/ssenseweb/image/upl...</td>\n",
       "    </tr>\n",
       "    <tr>\n",
       "      <th>3</th>\n",
       "      <td>GmbH</td>\n",
       "      <td>Black Adem Boots</td>\n",
       "      <td>630</td>\n",
       "      <td>men</td>\n",
       "      <td>https://res.cloudinary.com/ssenseweb/image/upl...</td>\n",
       "    </tr>\n",
       "    <tr>\n",
       "      <th>0</th>\n",
       "      <td>C2H4</td>\n",
       "      <td>Black Boson Boots</td>\n",
       "      <td>820</td>\n",
       "      <td>men</td>\n",
       "      <td>https://res.cloudinary.com/ssenseweb/image/upl...</td>\n",
       "    </tr>\n",
       "    <tr>\n",
       "      <th>...</th>\n",
       "      <td>...</td>\n",
       "      <td>...</td>\n",
       "      <td>...</td>\n",
       "      <td>...</td>\n",
       "      <td>...</td>\n",
       "    </tr>\n",
       "    <tr>\n",
       "      <th>3</th>\n",
       "      <td>Lauren Manoogian</td>\n",
       "      <td>Brown Welt Mules</td>\n",
       "      <td>655</td>\n",
       "      <td>women</td>\n",
       "      <td>https://res.cloudinary.com/ssenseweb/image/upl...</td>\n",
       "    </tr>\n",
       "    <tr>\n",
       "      <th>0</th>\n",
       "      <td>Paris Texas</td>\n",
       "      <td>Silver Lidia 70 Mules</td>\n",
       "      <td>715</td>\n",
       "      <td>women</td>\n",
       "      <td>https://res.cloudinary.com/ssenseweb/image/upl...</td>\n",
       "    </tr>\n",
       "    <tr>\n",
       "      <th>1</th>\n",
       "      <td>Paris Texas</td>\n",
       "      <td>Silver Lidia 70 Mules</td>\n",
       "      <td>715</td>\n",
       "      <td>women</td>\n",
       "      <td>https://res.cloudinary.com/ssenseweb/image/upl...</td>\n",
       "    </tr>\n",
       "    <tr>\n",
       "      <th>2</th>\n",
       "      <td>Paris Texas</td>\n",
       "      <td>Silver Lidia 70 Mules</td>\n",
       "      <td>715</td>\n",
       "      <td>women</td>\n",
       "      <td>https://res.cloudinary.com/ssenseweb/image/upl...</td>\n",
       "    </tr>\n",
       "    <tr>\n",
       "      <th>3</th>\n",
       "      <td>Paris Texas</td>\n",
       "      <td>Silver Lidia 70 Mules</td>\n",
       "      <td>715</td>\n",
       "      <td>women</td>\n",
       "      <td>https://res.cloudinary.com/ssenseweb/image/upl...</td>\n",
       "    </tr>\n",
       "  </tbody>\n",
       "</table>\n",
       "<p>42240 rows × 5 columns</p>\n",
       "</div>"
      ],
      "text/plain": [
       "               brand                  model  price gender  \\\n",
       "0               GmbH       Black Adem Boots    630    men   \n",
       "1               GmbH       Black Adem Boots    630    men   \n",
       "2               GmbH       Black Adem Boots    630    men   \n",
       "3               GmbH       Black Adem Boots    630    men   \n",
       "0               C2H4      Black Boson Boots    820    men   \n",
       "..               ...                    ...    ...    ...   \n",
       "3   Lauren Manoogian       Brown Welt Mules    655  women   \n",
       "0        Paris Texas  Silver Lidia 70 Mules    715  women   \n",
       "1        Paris Texas  Silver Lidia 70 Mules    715  women   \n",
       "2        Paris Texas  Silver Lidia 70 Mules    715  women   \n",
       "3        Paris Texas  Silver Lidia 70 Mules    715  women   \n",
       "\n",
       "                                                  url  \n",
       "0   https://res.cloudinary.com/ssenseweb/image/upl...  \n",
       "1   https://res.cloudinary.com/ssenseweb/image/upl...  \n",
       "2   https://res.cloudinary.com/ssenseweb/image/upl...  \n",
       "3   https://res.cloudinary.com/ssenseweb/image/upl...  \n",
       "0   https://res.cloudinary.com/ssenseweb/image/upl...  \n",
       "..                                                ...  \n",
       "3   https://res.cloudinary.com/ssenseweb/image/upl...  \n",
       "0   https://res.cloudinary.com/ssenseweb/image/upl...  \n",
       "1   https://res.cloudinary.com/ssenseweb/image/upl...  \n",
       "2   https://res.cloudinary.com/ssenseweb/image/upl...  \n",
       "3   https://res.cloudinary.com/ssenseweb/image/upl...  \n",
       "\n",
       "[42240 rows x 5 columns]"
      ]
     },
     "execution_count": 47,
     "metadata": {},
     "output_type": "execute_result"
    }
   ],
   "source": [
    "df"
   ]
  },
  {
   "cell_type": "code",
   "execution_count": 50,
   "metadata": {},
   "outputs": [
    {
     "data": {
      "text/plain": [
       "10253"
      ]
     },
     "execution_count": 50,
     "metadata": {},
     "output_type": "execute_result"
    }
   ],
   "source": [
    "len(np.unique(df['brand'] + df['model'] + df['gender'] + df['price'].astype(str)))"
   ]
  },
  {
   "cell_type": "code",
   "execution_count": 51,
   "metadata": {},
   "outputs": [],
   "source": [
    "df.to_csv('url_dataset.csv', index=None)"
   ]
  },
  {
   "cell_type": "code",
   "execution_count": 59,
   "metadata": {},
   "outputs": [
    {
     "data": {
      "text/plain": [
       "'https://res.cloudinary.com/ssenseweb/image/upload/b_white,c_lpad,g_center,h_1412,w_940/c_scale,h_960/f_auto,dpr_2.0/241979M228011_1.jpg'"
      ]
     },
     "execution_count": 59,
     "metadata": {},
     "output_type": "execute_result"
    }
   ],
   "source": [
    "df.iloc[0].url"
   ]
  },
  {
   "cell_type": "code",
   "execution_count": null,
   "metadata": {},
   "outputs": [],
   "source": []
  }
 ],
 "metadata": {
  "kernelspec": {
   "display_name": "Python 3",
   "language": "python",
   "name": "python3"
  },
  "language_info": {
   "codemirror_mode": {
    "name": "ipython",
    "version": 3
   },
   "file_extension": ".py",
   "mimetype": "text/x-python",
   "name": "python",
   "nbconvert_exporter": "python",
   "pygments_lexer": "ipython3",
   "version": "3.9.18"
  }
 },
 "nbformat": 4,
 "nbformat_minor": 2
}
